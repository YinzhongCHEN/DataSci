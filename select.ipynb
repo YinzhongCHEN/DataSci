{
 "cells": [
  {
   "cell_type": "code",
   "execution_count": 100,
   "id": "862a15a5",
   "metadata": {},
   "outputs": [],
   "source": [
    "import pandas as pd\n",
    "import tensorflow as tf\n",
    "import os\n",
    "import time\n",
    "import torch"
   ]
  },
  {
   "cell_type": "code",
   "execution_count": 101,
   "id": "b7ed7777",
   "metadata": {},
   "outputs": [
    {
     "name": "stdout",
     "output_type": "stream",
     "text": [
      "当前 CUDA 设备索引： 0\n",
      "CUDA 设备名称： NVIDIA GeForce RTX 4060 Laptop GPU\n"
     ]
    }
   ],
   "source": [
    "LINEITEM_CSV = r\"D:\\DataSci\\data\\lineitem.csv\"\n",
    "torch.cuda.set_device(0)            # 这里传入索引 0，而不是 torch.device 对象\n",
    "device = torch.device(\"cuda:0\")     # 之后构造一个 torch.device 对象，表示“cuda 上的第 0 块设备”\n",
    "\n",
    "# 验证\n",
    "print(\"当前 CUDA 设备索引：\", torch.cuda.current_device())\n",
    "print(\"CUDA 设备名称：\", torch.cuda.get_device_name(torch.cuda.current_device()))"
   ]
  },
  {
   "cell_type": "code",
   "execution_count": null,
   "id": "c582f00a",
   "metadata": {},
   "outputs": [],
   "source": [
    "# 读取lineitem 表csv并将几列转换成pytorch张量\n",
    "def load_data(csv_path, nrows=None):\n",
    "    usecols = ['l_orderkey',\n",
    "               'l_quantity',\n",
    "               'l_extendedprice',\n",
    "               'l_discount',\n",
    "               'l_partkey',\n",
    "               'l_suppkey',\n",
    "               'l_linenumber',\n",
    "               'l_tax']\n",
    "    df = pd.read_csv(csv_path,usecols=usecols,dtype={\n",
    "        'l_orderkey': 'int64',\n",
    "        'l_quantity': 'float32',\n",
    "        'l_extendedprice': 'float32',\n",
    "        'l_discount': 'float32',\n",
    "        'l_partkey': 'int64',\n",
    "        'l_suppkey': 'int64',\n",
    "        'l_linenumber': 'int64',\n",
    "        'l_tax':        'float32'\n",
    "    },\n",
    "    nrows=nrows\n",
    "    )\n",
    "    tensors = {\n",
    "        'l_orderkey':      torch.from_numpy(df['l_orderkey'].values).long().to(device),\n",
    "        'l_quantity':      torch.from_numpy(df['l_quantity'].values).to(device),\n",
    "        'l_extendedprice': torch.from_numpy(df['l_extendedprice'].values).to(device),\n",
    "        'l_discount':      torch.from_numpy(df['l_discount'].values).to(device),\n",
    "        'l_partkey':       torch.from_numpy(df['l_partkey'].values).long().to(device),\n",
    "        'l_suppkey':       torch.from_numpy(df['l_suppkey'].values).long().to(device),\n",
    "        'l_linenumber':    torch.from_numpy(df['l_linenumber'].values).long().to(device),\n",
    "        'l_tax':           torch.from_numpy(df['l_tax'].values).to(device)\n",
    "    }\n",
    "    return tensors,df"
   ]
  },
  {
   "cell_type": "code",
   "execution_count": 103,
   "id": "72da0321",
   "metadata": {},
   "outputs": [],
   "source": [
    "# cond为筛选函数\n",
    "# 使用 torch.masked_select 实现布尔掩码过滤\n",
    "def tensor_selection(tensors, cond):\n",
    "    mask = cond(tensors)\n",
    "    result = {}\n",
    "    for col_name, col_tensor in tensors.items():\n",
    "        result[col_name] = torch.masked_select(col_tensor, mask)\n",
    "    return result"
   ]
  },
  {
   "cell_type": "code",
   "execution_count": 104,
   "id": "710bf811",
   "metadata": {},
   "outputs": [],
   "source": [
    "\"\"\"\n",
    "    用 Pandas 原生做一次筛选（对比用）。\n",
    "    这里以示例条件： l_quantity > 30 AND l_discount < 0.05\n",
    "    返回一个新的 DataFrame，只保留满足条件的行。\n",
    "\"\"\"\n",
    "def pandas_selection(df):\n",
    "    return df[\n",
    "        (df['l_quantity']  > 30.0) &\n",
    "        (df['l_discount']  < 0.05) &\n",
    "        (df['l_partkey']   > 1000) &\n",
    "        (df['l_suppkey']   < 5000) &\n",
    "        (df['l_linenumber'] == 1) &\n",
    "        (df['l_tax']       <= 0.08)\n",
    "    ]"
   ]
  },
  {
   "cell_type": "code",
   "execution_count": null,
   "id": "aba2ed1a",
   "metadata": {},
   "outputs": [
    {
     "name": "stdout",
     "output_type": "stream",
     "text": [
      "  数据加载 + 张量转换耗时: 3.58 秒\n",
      "  原始行数: 6001215\n"
     ]
    }
   ],
   "source": [
    "# 加载数据到张量中\n",
    "start_time = time.time()\n",
    "tensors, df_full = load_data(LINEITEM_CSV, nrows=None)\n",
    "load_time = time.time() - start_time\n",
    "print(f\"  数据加载 + 张量转换耗时: {load_time:.2f} 秒\")\n",
    "print(f\"  原始行数: {df_full.shape[0]}\")"
   ]
  },
  {
   "cell_type": "code",
   "execution_count": 106,
   "id": "86639d31",
   "metadata": {},
   "outputs": [
    {
     "name": "stdout",
     "output_type": "stream",
     "text": [
      "  Pandas 筛选耗时: 0.046 秒\n",
      "  Pandas 筛选后行数: 135709\n"
     ]
    }
   ],
   "source": [
    "# 使用pandas做筛选\n",
    "start_pd = time.time()\n",
    "df_sel_pd = pandas_selection(df_full)\n",
    "pd_time = time.time() - start_pd\n",
    "print(f\"  Pandas 筛选耗时: {pd_time:.3f} 秒\")\n",
    "print(f\"  Pandas 筛选后行数: {df_sel_pd.shape[0]}\")"
   ]
  },
  {
   "cell_type": "code",
   "execution_count": 107,
   "id": "1712f5f5",
   "metadata": {},
   "outputs": [
    {
     "name": "stdout",
     "output_type": "stream",
     "text": [
      "  Tensor 筛选耗时：3.125 ms\n",
      "  Tensor 筛选后行数: 135709\n"
     ]
    }
   ],
   "source": [
    "# 使用张量做筛选\n",
    "def cond_fn(ts):\n",
    "        # ts['l_quantity'] 是一个 torch.float32 张量 (形状 = (N,))\n",
    "        # ts['l_discount'] 同理\n",
    "        mask_qty  = ts['l_quantity'] > 30.0      # dtype=torch.bool\n",
    "        mask_disc = ts['l_discount'] < 0.05      # dtype=torch.bool\n",
    "        mask_part  = ts['l_partkey'] > 1000        # torch.bool\n",
    "        mask_supp  = ts['l_suppkey'] < 5000        # torch.bool\n",
    "        mask_line  = ts['l_linenumber'] == 1       # torch.bool\n",
    "        mask_tax   = ts['l_tax'] <= 0.08           # torch.bool\n",
    "        mask = torch.logical_and(mask_qty, mask_disc)\n",
    "        mask = torch.logical_and(mask, mask_part)\n",
    "        mask = torch.logical_and(mask, mask_supp)\n",
    "        mask = torch.logical_and(mask, mask_line)\n",
    "        mask = torch.logical_and(mask, mask_tax)\n",
    "        return mask\n",
    "\n",
    "starter = torch.cuda.Event(enable_timing=True)\n",
    "ender   = torch.cuda.Event(enable_timing=True)\n",
    "\n",
    "# start_tf = time.time()\n",
    "starter.record()   \n",
    "sel_tensors = tensor_selection(tensors, cond_fn)\n",
    "ender.record()\n",
    "# tf_time = time.time() - start_tf\n",
    "torch.cuda.synchronize()\n",
    "elapsed_ms = starter.elapsed_time(ender)\n",
    "# 计算筛选后行数（以任意一个字段长度为准）\n",
    "tf_count = sel_tensors['l_orderkey'].shape[0]\n",
    "# print(f\"  Tensor 筛选耗时: {tf_time:.2f} 秒\")\n",
    "print(f\"  Tensor 筛选耗时：{elapsed_ms:.3f} ms\")\n",
    "print(f\"  Tensor 筛选后行数: {tf_count}\")"
   ]
  },
  {
   "cell_type": "code",
   "execution_count": 108,
   "id": "4a079687",
   "metadata": {},
   "outputs": [
    {
     "name": "stdout",
     "output_type": "stream",
     "text": [
      "Pandas 与张量筛选结果完全一致\n"
     ]
    }
   ],
   "source": [
    "df_sel_tf = pd.DataFrame({\n",
    "        'l_orderkey':      sel_tensors['l_orderkey'].cpu().numpy(),\n",
    "        'l_quantity':      sel_tensors['l_quantity'].cpu().numpy(),\n",
    "        'l_extendedprice': sel_tensors['l_extendedprice'].cpu().numpy(),\n",
    "        'l_discount':      sel_tensors['l_discount'].cpu().numpy(),\n",
    "        'l_partkey':       sel_tensors['l_partkey'].cpu().numpy(),\n",
    "        'l_suppkey':       sel_tensors['l_suppkey'].cpu().numpy(),\n",
    "        'l_linenumber':    sel_tensors['l_linenumber'].cpu().numpy(),\n",
    "        'l_tax':           sel_tensors['l_tax'].cpu().numpy(),\n",
    "    })\n",
    "cols = [\n",
    "    'l_orderkey',\n",
    "    'l_quantity',\n",
    "    'l_extendedprice',\n",
    "    'l_discount',\n",
    "    'l_partkey',\n",
    "    'l_suppkey',\n",
    "    'l_linenumber',\n",
    "    'l_tax'\n",
    "]\n",
    "df_sel_pd_sorted = (\n",
    "    df_sel_pd\n",
    "    .sort_values(by=cols)      \n",
    "    .reset_index(drop=True)     \n",
    ")[cols]  \n",
    "df_sel_tf_sorted = (\n",
    "    df_sel_tf\n",
    "    .sort_values(by=cols)\n",
    "    .reset_index(drop=True)\n",
    ")[cols]\n",
    "are_equal = df_sel_pd_sorted.equals(df_sel_tf_sorted)\n",
    "if are_equal :\n",
    "    print(\"Pandas 与张量筛选结果完全一致\")\n",
    "else:\n",
    "    print(\"Pandas 与张量筛选结果不一致\")"
   ]
  }
 ],
 "metadata": {
  "kernelspec": {
   "display_name": "DataSci",
   "language": "python",
   "name": "python3"
  },
  "language_info": {
   "codemirror_mode": {
    "name": "ipython",
    "version": 3
   },
   "file_extension": ".py",
   "mimetype": "text/x-python",
   "name": "python",
   "nbconvert_exporter": "python",
   "pygments_lexer": "ipython3",
   "version": "3.9.21"
  }
 },
 "nbformat": 4,
 "nbformat_minor": 5
}
